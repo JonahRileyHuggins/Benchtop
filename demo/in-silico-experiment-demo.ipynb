{
 "cells": [
  {
   "cell_type": "markdown",
   "id": "2bd6521d",
   "metadata": {},
   "source": [
    "# Demonstration of In-Silico Experiments"
   ]
  },
  {
   "cell_type": "code",
   "execution_count": null,
   "id": "13628c62",
   "metadata": {},
   "outputs": [],
   "source": [
    "import os \n",
    "import sys\n",
    "\n",
    "sys.path.append(\"../\")\n",
    "\n",
    "from src.Experiment import Experiment\n",
    "from wrappers.tellurium_wrapper import WrapTellurium\n"
   ]
  },
  {
   "cell_type": "code",
   "execution_count": 7,
   "id": "489dd4a2",
   "metadata": {},
   "outputs": [
    {
     "name": "stderr",
     "output_type": "stream",
     "text": [
      "2025-09-04 11:51:30,962 - INFO - Loading Experiment test-benchmark details from c:\\Users\\jhugg\\Documents\\GitHub\\in-silico experiments\\tests\\LR-Benchmark\\LR-benchmark.yaml\n"
     ]
    }
   ],
   "source": [
    "config_path = \"../tests/LR-Benchmark/LR-benchmark.yaml\"\n",
    "\n",
    "experiment = Experiment(config_path, cores=os.cpu_count() , verbose=True)"
   ]
  },
  {
   "cell_type": "code",
   "execution_count": 8,
   "id": "23d8dd4c",
   "metadata": {},
   "outputs": [
    {
     "name": "stderr",
     "output_type": "stream",
     "text": [
      "2025-09-04 11:51:30,976 - DEBUG - Starting in-silico experiment across 16 cores.\n"
     ]
    },
    {
     "name": "stdout",
     "output_type": "stream",
     "text": [
      "../tests/LR-Benchmark/LR-model.xml\n"
     ]
    }
   ],
   "source": [
    "experiment.run(WrapTellurium, \"../tests/LR-Benchmark/LR-model.xml\")"
   ]
  },
  {
   "cell_type": "code",
   "execution_count": 9,
   "id": "d865f51c",
   "metadata": {},
   "outputs": [],
   "source": [
    "experiment.observable_calculation()"
   ]
  },
  {
   "cell_type": "markdown",
   "id": "f1f055a2",
   "metadata": {},
   "source": [
    "### Data Format\n",
    "\n",
    "Observable results dictionary format follows:\n",
    "\n",
    "```python\n",
    "{\n",
    "    'individual-simulation-key': { # Randomly generated 16-character key \n",
    "        'conditionId': [Problem.condition_file.conditionId],  # STRING: specific condition applied to the simulation\n",
    "        'cell': <INT>,\n",
    "        '[Problem.observable_file.observableId]': {          # Nested dictionary for storing individual experimental and simulation datapoints\n",
    "            'experiment': <numpy.array | None>,            # Array of experimental values pertaining to this simulation, or None\n",
    "            'simulation': <numpy.array>,                   # Array of calculated observables, matching length of 'experiment' if not None\n",
    "            'time': <numpy.array>                           # Timepoints of simulation, matching length of 'experiment' if not None\n",
    "        },\n",
    "        # ... other specified observables\n",
    "    },\n",
    "    # ... other specified simulations\n",
    "}\n"
   ]
  },
  {
   "cell_type": "markdown",
   "id": "3b676435",
   "metadata": {},
   "source": [
    "## Plotting Code"
   ]
  },
  {
   "cell_type": "code",
   "execution_count": null,
   "id": "bcc9dcc7",
   "metadata": {},
   "outputs": [
    {
     "ename": "ModuleNotFoundError",
     "evalue": "No module named 'seaborn'",
     "output_type": "error",
     "traceback": [
      "\u001b[31m---------------------------------------------------------------------------\u001b[39m",
      "\u001b[31mModuleNotFoundError\u001b[39m                       Traceback (most recent call last)",
      "\u001b[36mCell\u001b[39m\u001b[36m \u001b[39m\u001b[32mIn[10]\u001b[39m\u001b[32m, line 4\u001b[39m\n\u001b[32m      2\u001b[39m \u001b[38;5;28;01mimport\u001b[39;00m\u001b[38;5;250m \u001b[39m\u001b[34;01mmatplotlib\u001b[39;00m\u001b[34;01m.\u001b[39;00m\u001b[34;01mpyplot\u001b[39;00m\u001b[38;5;250m \u001b[39m\u001b[38;5;28;01mas\u001b[39;00m\u001b[38;5;250m \u001b[39m\u001b[34;01mplt\u001b[39;00m\n\u001b[32m      3\u001b[39m \u001b[38;5;28;01mimport\u001b[39;00m\u001b[38;5;250m \u001b[39m\u001b[34;01mmatplotlib\u001b[39;00m\u001b[34;01m.\u001b[39;00m\u001b[34;01mgridspec\u001b[39;00m\u001b[38;5;250m \u001b[39m\u001b[38;5;28;01mas\u001b[39;00m\u001b[38;5;250m \u001b[39m\u001b[34;01mgridspec\u001b[39;00m\n\u001b[32m----> \u001b[39m\u001b[32m4\u001b[39m \u001b[38;5;28;01mimport\u001b[39;00m\u001b[38;5;250m \u001b[39m\u001b[34;01mseaborn\u001b[39;00m\u001b[38;5;250m \u001b[39m\u001b[38;5;28;01mas\u001b[39;00m\u001b[38;5;250m \u001b[39m\u001b[34;01msns\u001b[39;00m\n\u001b[32m      5\u001b[39m \u001b[38;5;28;01mimport\u001b[39;00m\u001b[38;5;250m \u001b[39m\u001b[34;01mmatplotlib\u001b[39;00m\u001b[38;5;250m \u001b[39m\u001b[38;5;28;01mas\u001b[39;00m\u001b[38;5;250m \u001b[39m\u001b[34;01mmpl\u001b[39;00m\n\u001b[32m      6\u001b[39m \u001b[38;5;28;01mfrom\u001b[39;00m\u001b[38;5;250m \u001b[39m\u001b[34;01mmatplotlib\u001b[39;00m\u001b[34;01m.\u001b[39;00m\u001b[34;01mlines\u001b[39;00m\u001b[38;5;250m \u001b[39m\u001b[38;5;28;01mimport\u001b[39;00m Line2D\n",
      "\u001b[31mModuleNotFoundError\u001b[39m: No module named 'seaborn'"
     ]
    }
   ],
   "source": [
    "# import pandas as pd\n",
    "# import matplotlib.pyplot as plt\n",
    "# import matplotlib.gridspec as gridspec\n",
    "# import seaborn as sns\n",
    "# import matplotlib as mpl\n",
    "# from matplotlib.lines import Line2D\n",
    "\n",
    "# data = pd.read_pickle('./results/test-benchmark.pkl')\n",
    "\n",
    "\n",
    "# headers = [\n",
    "#     'nuc_gene_a__LIGAND_',\n",
    "#     'nuc_gene_i__LIGAND_',\n",
    "#     'nuc_gene_a__RECEPTOR_',\n",
    "#     'nuc_gene_i__RECEPTOR_',\n",
    "#     'cyt_mrna__LIGAND_',\n",
    "#     'cyt_mrna__RECEPTOR_',\n",
    "#     'cyt_prot__LIGAND_',\n",
    "#     'cyt_prot__RECEPTOR_',\n",
    "#     'cyt_prot__LIGAND__RECEPTOR_'\n",
    "# ]\n",
    "\n",
    "# fig = plt.figure(figsize=(15, 10))\n",
    "# gs = gridspec.GridSpec(3, 3, figure=fig, hspace=0.6, wspace=0.4)\n",
    "\n",
    "# # mpl.rcParams['font.size'] = 16\n",
    "# mpl.rcParams['font.weight'] = 'bold'\n",
    "# mpl.rcParams['axes.labelweight'] = 'bold'\n",
    "# mpl.rcParams['lines.linewidth'] = 3\n",
    "\n",
    "# stop = len(data.index)* 30.0\n",
    "# step = stop / len(data.index)\n",
    "\n",
    "# time = data\n",
    "\n",
    "# start = time[0]\n",
    "# cyt_gene_a__ligand_init = data[headers[0]]\n",
    "# cyt_gene_a__receptor_init = data[headers[2]]\n",
    "# cyt_mrna_ligand_init = data[headers[4]][0]\n",
    "# cyt_mrna_receptor_init = data[headers[5]][0]\n",
    "# cyt_prot_ligand_init = data[headers[6]][0]\n",
    "# cyt_prot_receptor_init = data[headers[7]][0]\n",
    "\n",
    "# # === Top row (Bar plots comparing pairs) ===\n",
    "# ax1_0 = fig.add_subplot(gs[0, 0])\n",
    "# ax1_0.bar(time[::100]/3600, data[headers[0]][::100], color='red', label=headers[0], width=0.5)\n",
    "# ax1_0.bar(time[::100]/3600, data[headers[1]][::100], color='blue', alpha=0.6, label=headers[1], width=0.5)\n",
    "# ax1_0.set_title(\"Ligand\")\n",
    "# ax1_0.set_ylabel(\"Gene (mpc)\")\n",
    "# ax1_0.set_xlabel('Time (hr.)')\n",
    "# # ax1_0.legend(frameon = False)\n",
    "\n",
    "# ax1_1 = fig.add_subplot(gs[0, 1])\n",
    "# ax1_1.bar(time[::100]/3600, data[headers[2]][::100], color='red', label=headers[2], width=0.5)\n",
    "# ax1_1.bar(time[::100]/3600, data[headers[3]][::100], color='blue', alpha=0.6, label=headers[3], width=0.5)\n",
    "# ax1_1.set_title(\"Receptor\")\n",
    "# ax1_1.set_ylabel(\"Gene (mpc)\")\n",
    "# ax1_1.set_xlabel('Time (hr.)')\n",
    "# # ax1_1.legend(frameon = False, )\n",
    "\n",
    "# # === Middle row (Single line plots) ===\n",
    "# ax2_0 = fig.add_subplot(gs[1, 0])\n",
    "# ax2_0.bar(time/3600, data[headers[4]], color='orange', width=0.25)\n",
    "# ax2_0.set_ylabel(\"mRNA (mpc)\")\n",
    "# ax2_0.set_xlabel('Time (hr.)')\n",
    "\n",
    "# ax2_1 = fig.add_subplot(gs[1, 1])\n",
    "# ax2_1.bar(time/3600, data[headers[5]], color='cyan', width=0.25)\n",
    "# ax2_1.set_ylabel(\"mRNA (mpc)\")\n",
    "# ax2_1.set_xlabel('Time (hr.)')\n",
    "\n",
    "# # === Bottom row (Line plots) ===\n",
    "# ax3_0 = fig.add_subplot(gs[2, 0])  # Span full row\n",
    "# ax3_1 = fig.add_subplot(gs[2, 1])\n",
    "# ax3_2 = fig.add_subplot(gs[2, 2])\n",
    "# ax3_0.plot(time/3600, data[headers[6]], color='orange', label=headers[6])\n",
    "# ax3_0.set_ylabel(\"Protein (nM)\")\n",
    "# ax3_0.set_xlabel('Time (hr.)')\n",
    "# ax3_1.plot(time/3600, data[headers[7]], color='cyan', label=headers[7])\n",
    "# ax3_1.set_ylabel(\"Protein (nM)\")\n",
    "# ax3_1.set_xlabel('Time (hr.)')\n",
    "# ax3_2.plot(time/3600, data[headers[8]], color='#15b01a', label=headers[8])\n",
    "# ax3_2.set_ylabel(\"LIGAND:RECEPTOR Complex (nM)\")\n",
    "# ax3_2.set_xlabel('Time (hr.)')\n",
    "\n",
    "# ax1_2 = fig.add_subplot(gs[0:2, 2])\n",
    "\n",
    "# ax1_2.text(-0.2, 1.0, \"Simulation Settings: \", fontsize = 10)\n",
    "# ax1_2.text(0.0, 0.975, f\"Start Time: {start} s\", fontsize =7.5)\n",
    "# ax1_2.text(0.0, 0.95,f\"Stop Time: {stop} s\", fontsize = 7.5)\n",
    "# ax1_2.text(0.0, 0.925,f\"Step Size: {step} s\", fontsize = 7.5)\n",
    "\n",
    "# ax1_2.text(-0.2, 0.875, \"Initial Conditions:\", fontsize=7.5)\n",
    "# ax1_2.text(0.0, 0.85,f\"cyt_mrna__LIGAND_: {cyt_mrna_ligand_init} (mpc)\", fontsize = 7.5)\n",
    "# ax1_2.text(0.0, 0.825, \"Ligand kTC: 0.0005 s\", fontsize=7.5)\n",
    "# ax1_2.text(0.0, 0.8, \"Ligand kTCd: 0.00005 s\", fontsize=7.5)\n",
    "# ax1_2.text(0.0, 0.775,f\"cyt_mrna__RECEPTOR_: {cyt_mrna_receptor_init} (mpc)\", fontsize = 7.5)\n",
    "# ax1_2.text(0.0, 0.75, \" Receptor kTC: 0.0005s\", fontsize=7.5)\n",
    "# ax1_2.text(0.0, 0.725, \"Receptor kTCd: 0.00005 s\", fontsize=7.5)\n",
    "# ax1_2.text(0.0, 0.7, f\"cyt_prot__LIGAND_: {cyt_prot_ligand_init} (nM)\", fontsize=7.5)\n",
    "# ax1_2.text(0.0, 0.675, \"Ligand kTL: 1.0 s\", fontsize=7.5)\n",
    "# ax1_2.text(0.0, 0.65, \"Ligand kTLd: 0.00005 s\", fontsize=7.5)\n",
    "# ax1_2.text(0.0, 0.625, f\"cyt_prot__RECEPTOR_: {cyt_prot_receptor_init} (nM)\", fontsize=7.5)\n",
    "# ax1_2.text(0.0, 0.6, \"Receptor kTL: 1.0\", fontsize=7.5)\n",
    "# ax1_2.text(0.0, 0.575, \"Receptor kTLd: 0.00005 s\", fontsize=7.5)\n",
    "# ax1_2.text(0.0, 0.55, \"LR-Complex kTLd: 0.00005 s\", fontsize=7.5)\n",
    "\n",
    "# ax1_2.axis('off')\n",
    "\n",
    "# # Custom legend elements\n",
    "# legend_elements = [\n",
    "#     Line2D([0], [0], marker='o', color='w', label='active', markerfacecolor='red', markersize=10),\n",
    "#     Line2D([0], [0], marker='o', color='w', label='inactive', markerfacecolor='blue', markersize=10),\n",
    "#     Line2D([0], [0], marker='o', color='w', label='ligand', markerfacecolor='orange', markersize=10),\n",
    "#     Line2D([0], [0], marker='o', color='w', label='receptor', markerfacecolor='cyan', markersize=10),\n",
    "#     Line2D([0], [0], marker='o', color='w', label='L : R-Complex', markerfacecolor='#15b01a', markersize=10)\n",
    "# ]\n",
    "\n",
    "# # Add legend manually to ax1_2\n",
    "# ax1_2.legend(handles=legend_elements, loc='lower left', bbox_to_anchor=(0, 0.10), frameon=False, fontsize=10)\n",
    "\n",
    "\n",
    "# sns.despine(fig)\n",
    "\n",
    "# # Final touches\n",
    "# # fig.suptitle(\"Gene Expression and Interaction Overview\", fontsize=16, y=0.95)\n",
    "# plt.tight_layout(rect=[0, 0, 1, 0.95])\n",
    "# plt.savefig(fname = \"ktC-x0.1-LR-Model.png\", dpi = 300)\n",
    "# plt.show()"
   ]
  }
 ],
 "metadata": {
  "kernelspec": {
   "display_name": ".venv",
   "language": "python",
   "name": "python3"
  },
  "language_info": {
   "codemirror_mode": {
    "name": "ipython",
    "version": 3
   },
   "file_extension": ".py",
   "mimetype": "text/x-python",
   "name": "python",
   "nbconvert_exporter": "python",
   "pygments_lexer": "ipython3",
   "version": "3.12.10"
  }
 },
 "nbformat": 4,
 "nbformat_minor": 5
}
